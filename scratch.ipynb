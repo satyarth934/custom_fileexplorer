{
 "cells": [
  {
   "cell_type": "code",
   "execution_count": 1,
   "metadata": {},
   "outputs": [],
   "source": [
    "# import tkinter\n",
    "# from tkinter import filedialog\n",
    "import custom_file_explorer as cfe"
   ]
  },
  {
   "cell_type": "code",
   "execution_count": 2,
   "metadata": {},
   "outputs": [
    {
     "name": "stderr",
     "output_type": "stream",
     "text": [
      "WARNING:root:No directory specified. Closing the app...\n"
     ]
    },
    {
     "name": "stdout",
     "output_type": "stream",
     "text": [
      "self.dirname = ''\n"
     ]
    },
    {
     "name": "stderr",
     "output_type": "stream",
     "text": [
      "Exception in Tkinter callback\n",
      "Traceback (most recent call last):\n",
      "  File \"/opt/anaconda3/envs/misc_venv/lib/python3.10/tkinter/__init__.py\", line 1921, in __call__\n",
      "    return self.func(*args)\n",
      "  File \"/Users/satyarth/Projects/LBNL/Misc/gui_fileexplorer/custom_file_explorer.py\", line 49, in get_dirname\n",
      "    self.open_dir()\n",
      "  File \"/Users/satyarth/Projects/LBNL/Misc/gui_fileexplorer/custom_file_explorer.py\", line 56, in open_dir\n",
      "    self.tree = self.create_tree_widget()\n",
      "  File \"/Users/satyarth/Projects/LBNL/Misc/gui_fileexplorer/custom_file_explorer.py\", line 100, in create_tree_widget\n",
      "    tree = ttk.Treeview(self, columns=columns, show='headings')\n",
      "  File \"/opt/anaconda3/envs/misc_venv/lib/python3.10/tkinter/ttk.py\", line 1202, in __init__\n",
      "    Widget.__init__(self, master, \"ttk::treeview\", kw)\n",
      "  File \"/opt/anaconda3/envs/misc_venv/lib/python3.10/tkinter/ttk.py\", line 552, in __init__\n",
      "    tkinter.Widget.__init__(self, master, widgetname, kw=kw)\n",
      "  File \"/opt/anaconda3/envs/misc_venv/lib/python3.10/tkinter/__init__.py\", line 2601, in __init__\n",
      "    self.tk.call(\n",
      "_tkinter.TclError: NULL main window\n"
     ]
    },
    {
     "ename": "",
     "evalue": "",
     "output_type": "error",
     "traceback": [
      "\u001b[1;31mThe Kernel crashed while executing code in the the current cell or a previous cell. Please review the code in the cell(s) to identify a possible cause of the failure. Click <a href='https://aka.ms/vscodeJupyterKernelCrash'>here</a> for more info. View Jupyter <a href='command:jupyter.viewOutput'>log</a> for further details."
     ]
    }
   ],
   "source": [
    "%matplotlib widget\n",
    "app = cfe.App()\n",
    "app.mainloop()"
   ]
  }
 ],
 "metadata": {
  "kernelspec": {
   "display_name": "Python 3.10.4 ('misc_venv')",
   "language": "python",
   "name": "python3"
  },
  "language_info": {
   "codemirror_mode": {
    "name": "ipython",
    "version": 3
   },
   "file_extension": ".py",
   "mimetype": "text/x-python",
   "name": "python",
   "nbconvert_exporter": "python",
   "pygments_lexer": "ipython3",
   "version": "3.10.4"
  },
  "orig_nbformat": 4,
  "vscode": {
   "interpreter": {
    "hash": "54d4fd2abf92ecdfb8177e906ff2ceeaf182874c0d2e122b86e69093a523f43b"
   }
  }
 },
 "nbformat": 4,
 "nbformat_minor": 2
}
