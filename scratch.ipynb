{
 "cells": [
  {
   "cell_type": "code",
   "execution_count": 1,
   "metadata": {},
   "outputs": [],
   "source": [
    "import logging\n",
    "import pandas as pd\n",
    "# import tkinter\n",
    "# from tkinter import filedialog\n",
    "import custom_file_explorer as cfe"
   ]
  },
  {
   "cell_type": "code",
   "execution_count": 4,
   "metadata": {},
   "outputs": [],
   "source": [
    "def read_and_plot(filepath, ax):\n",
    "    parq_pd = pd.read_parquet(filepath, engine='pyarrow')\n",
    "\n",
    "    tconc_colname = None\n",
    "    for col_i in parq_pd.columns:\n",
    "        if \"total_component_concentration.cell.Tritium conc\" in col_i:\n",
    "            tconc_colname = col_i\n",
    "\n",
    "    if tconc_colname is None:\n",
    "        logging.warning(f\"Tritium conc not available for {filepath}. Ignoring the plot.\")\n",
    "        return None, None\n",
    "\n",
    "    ax.scatter(parq_pd.x, parq_pd.y, c=parq_pd[tconc_colname])\n",
    "\n",
    "    return parq_pd, ax"
   ]
  },
  {
   "cell_type": "code",
   "execution_count": 5,
   "metadata": {},
   "outputs": [
    {
     "name": "stdout",
     "output_type": "stream",
     "text": [
      "self.dirname = '/Users/satyarth/Projects/LBNL/Misc/gui_fileexplorer/dummy_dir/ensemble_sim_run2_sim43_agglayer_2d_info/mean'\n"
     ]
    }
   ],
   "source": [
    "app = cfe.App(read_and_plot_func=read_and_plot, figsize=(10, 5))\n",
    "app.mainloop()"
   ]
  },
  {
   "cell_type": "code",
   "execution_count": null,
   "metadata": {},
   "outputs": [],
   "source": []
  },
  {
   "cell_type": "code",
   "execution_count": null,
   "metadata": {},
   "outputs": [],
   "source": []
  },
  {
   "cell_type": "code",
   "execution_count": null,
   "metadata": {},
   "outputs": [],
   "source": []
  },
  {
   "cell_type": "code",
   "execution_count": null,
   "metadata": {},
   "outputs": [],
   "source": [
    "import pandas as pd\n",
    "filepath = \"./dummy_dir/ensemble_sim_run2_sim43_agglayer_2d_info/mean/lgroup2_1991y_0000000489c.parq\"\n",
    "# filepath = \"./dummy_dir/ensemble_sim_run2_sim43_agglayer_2d_info/mean/lgroup3_1980y_0000000351c.parq\"\n",
    "parq_pd = pd.read_parquet(filepath, engine='pyarrow')\n",
    "\n",
    "tconc_colname = None\n",
    "for col_i in parq_pd.columns:\n",
    "    if \"total_component_concentration.cell.Tritium conc\" in col_i:\n",
    "        tconc_colname = col_i\n",
    "print(tconc_colname)"
   ]
  },
  {
   "cell_type": "code",
   "execution_count": null,
   "metadata": {},
   "outputs": [],
   "source": [
    "parq_pd"
   ]
  },
  {
   "cell_type": "code",
   "execution_count": null,
   "metadata": {},
   "outputs": [],
   "source": [
    "%matplotlib widget\n",
    "import matplotlib.pyplot as plt\n",
    "plt.scatter(parq_pd.x, parq_pd.y, c=parq_pd[\"mean_lgroup2_total_component_concentration.cell.Tritium conc\"])\n",
    "plt.show()"
   ]
  },
  {
   "cell_type": "code",
   "execution_count": null,
   "metadata": {},
   "outputs": [],
   "source": [
    "fig_width, fig_height = plt.gcf().get_size_inches()\n",
    "print(fig_width, fig_height)"
   ]
  },
  {
   "cell_type": "code",
   "execution_count": null,
   "metadata": {},
   "outputs": [],
   "source": []
  }
 ],
 "metadata": {
  "kernelspec": {
   "display_name": "Python 3.10.4 ('misc_venv')",
   "language": "python",
   "name": "python3"
  },
  "language_info": {
   "codemirror_mode": {
    "name": "ipython",
    "version": 3
   },
   "file_extension": ".py",
   "mimetype": "text/x-python",
   "name": "python",
   "nbconvert_exporter": "python",
   "pygments_lexer": "ipython3",
   "version": "3.10.4"
  },
  "orig_nbformat": 4,
  "vscode": {
   "interpreter": {
    "hash": "54d4fd2abf92ecdfb8177e906ff2ceeaf182874c0d2e122b86e69093a523f43b"
   }
  }
 },
 "nbformat": 4,
 "nbformat_minor": 2
}
